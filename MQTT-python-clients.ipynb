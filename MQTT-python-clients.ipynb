{
 "cells": [
  {
   "cell_type": "code",
   "execution_count": null,
   "id": "aca3bc71",
   "metadata": {},
   "outputs": [],
   "source": [
    "pip install paho-mqtt"
   ]
  },
  {
   "cell_type": "code",
   "execution_count": null,
   "id": "6c0cdab8",
   "metadata": {},
   "outputs": [],
   "source": [
    "import paho.mqtt.client as mqtt\n",
    "\n",
    "# The callback for when the client receives a CONNACK response from the server.\n",
    "def on_connect_sub(SubscriberClient, userdata, flags, rc):\n",
    "    if rc == 0:\n",
    "        print(\"Subscriber Connected with result code \"+str(rc))\n",
    "    else : \n",
    "        print(\"Subscriber Failed to connect, code \"+stc(rc))\n",
    "\n",
    "    # Subscribing in on_connect() means that if we lose the connection and\n",
    "    # reconnect then subscriptions will be renewed.\n",
    "\n",
    "def on_connect_pub(PublisherClient, userdata, flags, rc):\n",
    "    if rc == 0:\n",
    "        print(\"Publisher Connected with result code \"+str(rc))\n",
    "    else :\n",
    "        print(\"Publisher Failed to connect, code \"+stc(rc))\n",
    "\n",
    "# The callback for when a PUBLISH message is received from the server.\n",
    "def on_message(SubscriberClient, userdata, msg):\n",
    "    print(msg.topic+\" \"+str(msg.payload)[2:-1])\n",
    "    pubResult = PublisherClient.publish(msg.topic, str(msg.payload)[2:-1])\n",
    "    if pubResult[0] == 0:\n",
    "        print(\"Published to topic {}\".format(msg.topic))\n",
    "    else :\n",
    "        print(\"Failed to publish\")\n",
    "\n",
    "SubscriberClient = mqtt.Client(\"pythonClientMosquitto\")\n",
    "PublisherClient = mqtt.Client(\"pythonClientHono\")\n",
    "PublisherClient.username_pw_set(\"demo-device-001-auth@org.eclipse.ditto\", \"my-password\")\n",
    "PublisherClient.on_connect = on_connect_pub\n",
    "\n",
    "\n",
    "SubscriberClient.on_connect = on_connect_sub\n",
    "SubscriberClient.on_message = on_message\n",
    "\n",
    "\n",
    "SubscriberClient.connect(\"localhost\", 1883, 60)\n",
    "SubscriberClient.subscribe(\"telemetry\")\n",
    "PublisherClient.connect(\"34.79.55.220\", 1883, 60) #the address should be updated to MQTT_ADAPTER_IP after deployment of Hono.\n",
    "\n",
    "\n",
    "# Blocking call that processes network traffic, dispatches callbacks and\n",
    "# handles reconnecting.\n",
    "# Other loop*() functions are available that give a threaded interface and a\n",
    "# manual interface.\n",
    "SubscriberClient.loop_start()\n",
    "PublisherClient.loop_start()"
   ]
  }
 ],
 "metadata": {
  "kernelspec": {
   "display_name": "Python 3 (ipykernel)",
   "language": "python",
   "name": "python3"
  },
  "language_info": {
   "codemirror_mode": {
    "name": "ipython",
    "version": 3
   },
   "file_extension": ".py",
   "mimetype": "text/x-python",
   "name": "python",
   "nbconvert_exporter": "python",
   "pygments_lexer": "ipython3",
   "version": "3.8.10"
  }
 },
 "nbformat": 4,
 "nbformat_minor": 5
}
